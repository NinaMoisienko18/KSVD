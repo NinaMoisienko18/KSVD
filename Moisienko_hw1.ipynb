{
  "nbformat": 4,
  "nbformat_minor": 0,
  "metadata": {
    "colab": {
      "provenance": [],
      "include_colab_link": true
    },
    "kernelspec": {
      "name": "python3",
      "display_name": "Python 3"
    },
    "language_info": {
      "name": "python"
    }
  },
  "cells": [
    {
      "cell_type": "markdown",
      "metadata": {
        "id": "view-in-github",
        "colab_type": "text"
      },
      "source": [
        "<a href=\"https://colab.research.google.com/github/NinaMoisienko18/KSVD/blob/main/Moisienko_hw1.ipynb\" target=\"_parent\"><img src=\"https://colab.research.google.com/assets/colab-badge.svg\" alt=\"Open In Colab\"/></a>"
      ]
    },
    {
      "cell_type": "markdown",
      "source": [
        "# Лабораторна робота 1\n",
        "  Посилання на GitHub:"
      ],
      "metadata": {
        "id": "xNi3CC9vt0B-"
      }
    },
    {
      "cell_type": "markdown",
      "source": [
        "1) Створіть одновимірний масив (вектор) з першими 20-ма натуральними числами та виведіть його значення."
      ],
      "metadata": {
        "id": "8ats1sK9tpUr"
      }
    },
    {
      "cell_type": "code",
      "source": [
        "!pip install numpy"
      ],
      "metadata": {
        "colab": {
          "base_uri": "https://localhost:8080/"
        },
        "id": "md850i0oXi1F",
        "outputId": "0f9111e6-5623-45f2-d437-82e07374c548"
      },
      "execution_count": null,
      "outputs": [
        {
          "output_type": "stream",
          "name": "stdout",
          "text": [
            "Requirement already satisfied: numpy in /usr/local/lib/python3.11/dist-packages (2.0.2)\n"
          ]
        }
      ]
    },
    {
      "cell_type": "code",
      "source": [
        "import numpy as np\n",
        "v = np.arange(1, 21)\n",
        "v"
      ],
      "metadata": {
        "colab": {
          "base_uri": "https://localhost:8080/"
        },
        "id": "SsaIeCcauMFm",
        "outputId": "51ccf036-5bb9-449f-db13-f379bdbfccc4"
      },
      "execution_count": null,
      "outputs": [
        {
          "output_type": "execute_result",
          "data": {
            "text/plain": [
              "array([ 1,  2,  3,  4,  5,  6,  7,  8,  9, 10, 11, 12, 13, 14, 15, 16, 17,\n",
              "       18, 19, 20])"
            ]
          },
          "metadata": {},
          "execution_count": 2
        }
      ]
    },
    {
      "cell_type": "markdown",
      "source": [
        "2) Створіть двовимірний масив (матрицю) розміром 4x4, заповніть його одиницями та виведіть його значення."
      ],
      "metadata": {
        "id": "e0V0K56lty14"
      }
    },
    {
      "cell_type": "code",
      "source": [
        "m = np.ones((4, 4), dtype=int)\n",
        "m"
      ],
      "metadata": {
        "colab": {
          "base_uri": "https://localhost:8080/"
        },
        "id": "mbSFogGYvPev",
        "outputId": "da835aa3-1cd1-4d2a-8c23-780c67eaa21f"
      },
      "execution_count": null,
      "outputs": [
        {
          "output_type": "execute_result",
          "data": {
            "text/plain": [
              "array([[1, 1, 1, 1],\n",
              "       [1, 1, 1, 1],\n",
              "       [1, 1, 1, 1],\n",
              "       [1, 1, 1, 1]])"
            ]
          },
          "metadata": {},
          "execution_count": 3
        }
      ]
    },
    {
      "cell_type": "markdown",
      "source": [
        "3) Створіть масив розміром 5x5, заповніть його випадковими дійсними числами в діапазоні від -1 до 1 та виведіть його значення."
      ],
      "metadata": {
        "id": "oZ_hzFJAvI7K"
      }
    },
    {
      "cell_type": "code",
      "source": [
        "np.random.uniform(-1, 1, size=(5,5))"
      ],
      "metadata": {
        "colab": {
          "base_uri": "https://localhost:8080/"
        },
        "id": "d-U9CUvVvlTm",
        "outputId": "f651bb89-51e4-45f5-a2cd-dea6c057a752"
      },
      "execution_count": null,
      "outputs": [
        {
          "output_type": "execute_result",
          "data": {
            "text/plain": [
              "array([[-0.5708428 ,  0.54082769,  0.71927914,  0.46158085,  0.72209933],\n",
              "       [ 0.07226988,  0.54403327, -0.44827285,  0.49406789,  0.70983725],\n",
              "       [ 0.48212008,  0.98887147, -0.79669715,  0.4144964 ,  0.6004116 ],\n",
              "       [ 0.02982582,  0.75051538, -0.40498755, -0.18247813, -0.7650994 ],\n",
              "       [ 0.51011967,  0.31714765, -0.43362934,  0.02861812,  0.37331157]])"
            ]
          },
          "metadata": {},
          "execution_count": 4
        }
      ]
    },
    {
      "cell_type": "markdown",
      "source": [
        "4) Створіть масив розміром 3x3, заповніть його випадковими дійсними числами в діапазоні від 0 до 1 та виведіть його значення."
      ],
      "metadata": {
        "id": "kzJzdsUGvlnk"
      }
    },
    {
      "cell_type": "code",
      "source": [
        "np.random.uniform(0, 1, size=(3,3))"
      ],
      "metadata": {
        "colab": {
          "base_uri": "https://localhost:8080/"
        },
        "id": "lZiS9V_0vzRM",
        "outputId": "ffd2f477-7d74-4999-853f-25abef7a2f10"
      },
      "execution_count": null,
      "outputs": [
        {
          "output_type": "execute_result",
          "data": {
            "text/plain": [
              "array([[0.28901091, 0.75416948, 0.26113051],\n",
              "       [0.1242609 , 0.27948813, 0.58557065],\n",
              "       [0.2427204 , 0.24922014, 0.89577986]])"
            ]
          },
          "metadata": {},
          "execution_count": 5
        }
      ]
    },
    {
      "cell_type": "markdown",
      "source": [
        "5) Створіть два одновимірних масиви розміром 6, заповніть їх випадковими цілими числами в діапазоні від 1 до 20 та виконайте на них поелементні операції додавання, віднімання та множення."
      ],
      "metadata": {
        "id": "78ffPX3Vvzzo"
      }
    },
    {
      "cell_type": "code",
      "source": [
        "a = np.random.randint(1, 21, size=(1,6))\n",
        "b = np.random.randint(1, 21, size=(1,6))\n",
        "\n",
        "print(f\"a = {a} \\nb = {b}\\n\")\n",
        "print(f\"a + b = {a+b}\")\n",
        "print(f\"a - b = {a-b}\")\n",
        "print(f\"a * b = {a*b}\")"
      ],
      "metadata": {
        "colab": {
          "base_uri": "https://localhost:8080/"
        },
        "id": "HNoTCQxkwnFX",
        "outputId": "3a5542d2-e317-4faa-f0c7-3a0ee5d71bc8"
      },
      "execution_count": null,
      "outputs": [
        {
          "output_type": "stream",
          "name": "stdout",
          "text": [
            "a = [[ 6 14 10  9 19 12]] \n",
            "b = [[ 8 18 17 13  8 19]]\n",
            "\n",
            "a + b = [[14 32 27 22 27 31]]\n",
            "a - b = [[-2 -4 -7 -4 11 -7]]\n",
            "a * b = [[ 48 252 170 117 152 228]]\n"
          ]
        }
      ]
    },
    {
      "cell_type": "markdown",
      "source": [
        "6) Створіть дві матриці розміром 3x2 та 2x4, заповніть їх випадковими цілими числами в діапазоні від 1 до 5 та перемножте їх між собою."
      ],
      "metadata": {
        "id": "FfGiAGDownRk"
      }
    },
    {
      "cell_type": "code",
      "source": [
        "a = np.random.randint(1, 6, size=(3,2))\n",
        "b = np.random.randint(1, 6, size=(2,4))\n",
        "\n",
        "a"
      ],
      "metadata": {
        "colab": {
          "base_uri": "https://localhost:8080/"
        },
        "id": "39joAKNRxDNX",
        "outputId": "6f37a627-dcb5-45f8-b793-b5b7b70c64a5"
      },
      "execution_count": null,
      "outputs": [
        {
          "output_type": "execute_result",
          "data": {
            "text/plain": [
              "array([[3, 4],\n",
              "       [2, 3],\n",
              "       [2, 4]])"
            ]
          },
          "metadata": {},
          "execution_count": 7
        }
      ]
    },
    {
      "cell_type": "code",
      "source": [
        "b"
      ],
      "metadata": {
        "colab": {
          "base_uri": "https://localhost:8080/"
        },
        "id": "vzaY5mh9YfEc",
        "outputId": "a95c5fdb-068d-4fa0-c00d-7eaf41c5e9c8"
      },
      "execution_count": null,
      "outputs": [
        {
          "output_type": "execute_result",
          "data": {
            "text/plain": [
              "array([[2, 2, 5, 4],\n",
              "       [3, 3, 3, 3]])"
            ]
          },
          "metadata": {},
          "execution_count": 8
        }
      ]
    },
    {
      "cell_type": "code",
      "source": [
        "print(\"a * b = \")\n",
        "np.dot(a, b)"
      ],
      "metadata": {
        "colab": {
          "base_uri": "https://localhost:8080/"
        },
        "id": "wgPeT8rEYjdD",
        "outputId": "ad4c88d3-e195-49b2-dead-e9e0e6bbe529"
      },
      "execution_count": null,
      "outputs": [
        {
          "output_type": "stream",
          "name": "stdout",
          "text": [
            "a * b = \n"
          ]
        },
        {
          "output_type": "execute_result",
          "data": {
            "text/plain": [
              "array([[18, 18, 27, 24],\n",
              "       [13, 13, 19, 17],\n",
              "       [16, 16, 22, 20]])"
            ]
          },
          "metadata": {},
          "execution_count": 9
        }
      ]
    },
    {
      "cell_type": "markdown",
      "source": [
        "7) Створіть матрицю розміром 3x3, заповніть її випадковими дійсними числами в діапазоні від 0 до 1 та транспонуйте її."
      ],
      "metadata": {
        "id": "Erho8zVexDX5"
      }
    },
    {
      "cell_type": "code",
      "source": [
        "m = np.random.uniform(0, 1, size=(3,3))\n",
        "print(m)\n",
        "print()\n",
        "print(m.transpose())"
      ],
      "metadata": {
        "colab": {
          "base_uri": "https://localhost:8080/"
        },
        "id": "Cq3hQYyGxMav",
        "outputId": "212c8000-a760-47f9-eb98-97f8d9157afe"
      },
      "execution_count": null,
      "outputs": [
        {
          "output_type": "stream",
          "name": "stdout",
          "text": [
            "[[0.4185598  0.34550572 0.34711334]\n",
            " [0.00959018 0.72537396 0.63199739]\n",
            " [0.39793655 0.14794601 0.45978706]]\n",
            "\n",
            "[[0.4185598  0.00959018 0.39793655]\n",
            " [0.34550572 0.72537396 0.14794601]\n",
            " [0.34711334 0.63199739 0.45978706]]\n"
          ]
        }
      ]
    },
    {
      "cell_type": "markdown",
      "source": [
        "8) Створіть дві матриці розміром 3x3, заповніть їх випадковими цілими числами в діапазоні від 1 до 10 та знайдіть їхню різницю."
      ],
      "metadata": {
        "id": "Yo35zHU0xMkb"
      }
    },
    {
      "cell_type": "code",
      "source": [
        "a = np.random.randint(1, 11, size=(3,3))\n",
        "b = np.random.randint(1, 11, size=(3,3))\n",
        "a-b"
      ],
      "metadata": {
        "colab": {
          "base_uri": "https://localhost:8080/"
        },
        "id": "nROKYOtSxZvh",
        "outputId": "ccb78424-9bab-457a-e4b7-197059b4f778"
      },
      "execution_count": null,
      "outputs": [
        {
          "output_type": "execute_result",
          "data": {
            "text/plain": [
              "array([[-7,  2, -4],\n",
              "       [-7, -7,  3],\n",
              "       [ 0,  1, -6]])"
            ]
          },
          "metadata": {},
          "execution_count": 11
        }
      ]
    },
    {
      "cell_type": "markdown",
      "source": [
        "9) Створіть дві матриці розміром 3x3, заповніть їх випадковими цілими числами в діапазоні від -5 до 5 та знайдіть їх добуток."
      ],
      "metadata": {
        "id": "kEs7IUIOxZ-C"
      }
    },
    {
      "cell_type": "code",
      "source": [
        "a = np.random.randint(-5, 5, size=(3,3))\n",
        "b = np.random.randint(-5, 5, size=(3,3))\n",
        "\n",
        "a"
      ],
      "metadata": {
        "colab": {
          "base_uri": "https://localhost:8080/"
        },
        "id": "pnUj6Svmxciq",
        "outputId": "f0e03c83-cb43-47dd-b51b-2e62cafee8b3"
      },
      "execution_count": null,
      "outputs": [
        {
          "output_type": "execute_result",
          "data": {
            "text/plain": [
              "array([[ 2, -1,  3],\n",
              "       [ 1, -4, -2],\n",
              "       [ 2, -5, -4]])"
            ]
          },
          "metadata": {},
          "execution_count": 12
        }
      ]
    },
    {
      "cell_type": "code",
      "source": [
        "b"
      ],
      "metadata": {
        "colab": {
          "base_uri": "https://localhost:8080/"
        },
        "id": "ts1_oljdZhUF",
        "outputId": "c566b940-9f40-44e3-eff6-061f78186ef0"
      },
      "execution_count": null,
      "outputs": [
        {
          "output_type": "execute_result",
          "data": {
            "text/plain": [
              "array([[-3,  3,  0],\n",
              "       [-2,  2,  3],\n",
              "       [ 0, -2, -3]])"
            ]
          },
          "metadata": {},
          "execution_count": 13
        }
      ]
    },
    {
      "cell_type": "code",
      "source": [
        "np.dot(a, b)"
      ],
      "metadata": {
        "colab": {
          "base_uri": "https://localhost:8080/"
        },
        "id": "pMEidheEZm3r",
        "outputId": "07ee1ae0-1f99-4a6c-adb3-325486b608bc"
      },
      "execution_count": null,
      "outputs": [
        {
          "output_type": "execute_result",
          "data": {
            "text/plain": [
              "array([[ -4,  -2, -12],\n",
              "       [  5,  -1,  -6],\n",
              "       [  4,   4,  -3]])"
            ]
          },
          "metadata": {},
          "execution_count": 14
        }
      ]
    },
    {
      "cell_type": "markdown",
      "source": [
        "10) Створіть матрицю розміром 3x3, заповніть її випадковими дійсними числами в діапазоні від -1 до 1 та знайдіть вектор-стовпчик, що містить суму елементів кожного рядка матриці."
      ],
      "metadata": {
        "id": "-_HxDET3xcrx"
      }
    },
    {
      "cell_type": "code",
      "source": [
        "m = np.random.uniform(-1, 1, size=(3,3))\n",
        "\n",
        "m"
      ],
      "metadata": {
        "colab": {
          "base_uri": "https://localhost:8080/"
        },
        "id": "lzmztVK0xjOF",
        "outputId": "d058e807-783f-4de6-e4b9-7b024c57dcd6"
      },
      "execution_count": null,
      "outputs": [
        {
          "output_type": "execute_result",
          "data": {
            "text/plain": [
              "array([[-0.17561103,  0.75435971, -0.14200905],\n",
              "       [ 0.61818637, -0.91074466, -0.33901319],\n",
              "       [-0.50726884,  0.62772903,  0.82276577]])"
            ]
          },
          "metadata": {},
          "execution_count": 15
        }
      ]
    },
    {
      "cell_type": "code",
      "source": [
        "m.sum(axis=0).reshape(3, 1)"
      ],
      "metadata": {
        "colab": {
          "base_uri": "https://localhost:8080/"
        },
        "id": "FX88CV_0Zx1k",
        "outputId": "7cba5c39-f479-42b5-b55e-7e6b42350743"
      },
      "execution_count": null,
      "outputs": [
        {
          "output_type": "execute_result",
          "data": {
            "text/plain": [
              "array([[-0.0646935 ],\n",
              "       [ 0.47134408],\n",
              "       [ 0.34174353]])"
            ]
          },
          "metadata": {},
          "execution_count": 19
        }
      ]
    }
  ]
}