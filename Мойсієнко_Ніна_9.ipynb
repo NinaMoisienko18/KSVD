{
  "nbformat": 4,
  "nbformat_minor": 0,
  "metadata": {
    "colab": {
      "provenance": [],
      "include_colab_link": true
    },
    "kernelspec": {
      "name": "python3",
      "display_name": "Python 3"
    },
    "language_info": {
      "name": "python"
    }
  },
  "cells": [
    {
      "cell_type": "markdown",
      "metadata": {
        "id": "view-in-github",
        "colab_type": "text"
      },
      "source": [
        "<a href=\"https://colab.research.google.com/github/NinaMoisienko18/KSVD/blob/main/%D0%9C%D0%BE%D0%B8%CC%86%D1%81%D1%96%D1%94%D0%BD%D0%BA%D0%BE_%D0%9D%D1%96%D0%BD%D0%B0_9.ipynb\" target=\"_parent\"><img src=\"https://colab.research.google.com/assets/colab-badge.svg\" alt=\"Open In Colab\"/></a>"
      ]
    },
    {
      "cell_type": "markdown",
      "source": [
        "# 1. Встановлення PySpark"
      ],
      "metadata": {
        "id": "xbiY2OneCsB7"
      }
    },
    {
      "cell_type": "code",
      "execution_count": null,
      "metadata": {
        "colab": {
          "base_uri": "https://localhost:8080/"
        },
        "id": "KkTNzmzrCjtd",
        "outputId": "be773021-485a-43bc-d420-21215e5c8a14"
      },
      "outputs": [
        {
          "output_type": "stream",
          "name": "stdout",
          "text": [
            "Requirement already satisfied: pyspark==3.5.1 in /usr/local/lib/python3.11/dist-packages (3.5.1)\n",
            "Requirement already satisfied: py4j==0.10.9.7 in /usr/local/lib/python3.11/dist-packages (from pyspark==3.5.1) (0.10.9.7)\n"
          ]
        }
      ],
      "source": [
        "!pip install pyspark==3.5.1"
      ]
    },
    {
      "cell_type": "markdown",
      "source": [
        "# 2. Імпорт необхідних бібліотек"
      ],
      "metadata": {
        "id": "gBjg9OtLCuVY"
      }
    },
    {
      "cell_type": "code",
      "source": [
        "from pyspark.sql import SparkSession\n",
        "from pyspark.sql.functions import col, avg, count, min, max, sum, round, lit, to_date\n",
        "from pyspark.sql.types import DoubleType, IntegerType\n",
        "\n",
        "import matplotlib.pyplot as plt\n",
        "import pandas as pd\n",
        "import seaborn as sns\n",
        "from google.colab import files\n"
      ],
      "metadata": {
        "id": "dHz82ndRCuol"
      },
      "execution_count": null,
      "outputs": []
    },
    {
      "cell_type": "markdown",
      "source": [
        "# 3.Створення SparkSession"
      ],
      "metadata": {
        "id": "kLIN-V4aC4v1"
      }
    },
    {
      "cell_type": "code",
      "source": [
        "spark = SparkSession.builder.appName(\"CruiseDataAnalysis\").getOrCreate()"
      ],
      "metadata": {
        "id": "BvTLfS-DC7au"
      },
      "execution_count": null,
      "outputs": []
    },
    {
      "cell_type": "code",
      "source": [
        "print(\"SparkSession created successfully.\")"
      ],
      "metadata": {
        "colab": {
          "base_uri": "https://localhost:8080/"
        },
        "id": "HIvDOa_gDmTA",
        "outputId": "b6618de5-a02d-4a15-f4a3-40ca329a3080"
      },
      "execution_count": null,
      "outputs": [
        {
          "output_type": "stream",
          "name": "stdout",
          "text": [
            "SparkSession created successfully.\n"
          ]
        }
      ]
    },
    {
      "cell_type": "markdown",
      "source": [
        "# 4. Завантаження датасет"
      ],
      "metadata": {
        "id": "4megggFDDjdw"
      }
    },
    {
      "cell_type": "code",
      "source": [
        "uploaded = files.upload()"
      ],
      "metadata": {
        "colab": {
          "base_uri": "https://localhost:8080/",
          "height": 73
        },
        "id": "bQCAJELjDixJ",
        "outputId": "83494ffc-1d28-4ac0-b32f-e88d3fc7117c"
      },
      "execution_count": null,
      "outputs": [
        {
          "output_type": "display_data",
          "data": {
            "text/plain": [
              "<IPython.core.display.HTML object>"
            ],
            "text/html": [
              "\n",
              "     <input type=\"file\" id=\"files-30d4df6a-f750-4797-a1de-dd0ab28495b9\" name=\"files[]\" multiple disabled\n",
              "        style=\"border:none\" />\n",
              "     <output id=\"result-30d4df6a-f750-4797-a1de-dd0ab28495b9\">\n",
              "      Upload widget is only available when the cell has been executed in the\n",
              "      current browser session. Please rerun this cell to enable.\n",
              "      </output>\n",
              "      <script>// Copyright 2017 Google LLC\n",
              "//\n",
              "// Licensed under the Apache License, Version 2.0 (the \"License\");\n",
              "// you may not use this file except in compliance with the License.\n",
              "// You may obtain a copy of the License at\n",
              "//\n",
              "//      http://www.apache.org/licenses/LICENSE-2.0\n",
              "//\n",
              "// Unless required by applicable law or agreed to in writing, software\n",
              "// distributed under the License is distributed on an \"AS IS\" BASIS,\n",
              "// WITHOUT WARRANTIES OR CONDITIONS OF ANY KIND, either express or implied.\n",
              "// See the License for the specific language governing permissions and\n",
              "// limitations under the License.\n",
              "\n",
              "/**\n",
              " * @fileoverview Helpers for google.colab Python module.\n",
              " */\n",
              "(function(scope) {\n",
              "function span(text, styleAttributes = {}) {\n",
              "  const element = document.createElement('span');\n",
              "  element.textContent = text;\n",
              "  for (const key of Object.keys(styleAttributes)) {\n",
              "    element.style[key] = styleAttributes[key];\n",
              "  }\n",
              "  return element;\n",
              "}\n",
              "\n",
              "// Max number of bytes which will be uploaded at a time.\n",
              "const MAX_PAYLOAD_SIZE = 100 * 1024;\n",
              "\n",
              "function _uploadFiles(inputId, outputId) {\n",
              "  const steps = uploadFilesStep(inputId, outputId);\n",
              "  const outputElement = document.getElementById(outputId);\n",
              "  // Cache steps on the outputElement to make it available for the next call\n",
              "  // to uploadFilesContinue from Python.\n",
              "  outputElement.steps = steps;\n",
              "\n",
              "  return _uploadFilesContinue(outputId);\n",
              "}\n",
              "\n",
              "// This is roughly an async generator (not supported in the browser yet),\n",
              "// where there are multiple asynchronous steps and the Python side is going\n",
              "// to poll for completion of each step.\n",
              "// This uses a Promise to block the python side on completion of each step,\n",
              "// then passes the result of the previous step as the input to the next step.\n",
              "function _uploadFilesContinue(outputId) {\n",
              "  const outputElement = document.getElementById(outputId);\n",
              "  const steps = outputElement.steps;\n",
              "\n",
              "  const next = steps.next(outputElement.lastPromiseValue);\n",
              "  return Promise.resolve(next.value.promise).then((value) => {\n",
              "    // Cache the last promise value to make it available to the next\n",
              "    // step of the generator.\n",
              "    outputElement.lastPromiseValue = value;\n",
              "    return next.value.response;\n",
              "  });\n",
              "}\n",
              "\n",
              "/**\n",
              " * Generator function which is called between each async step of the upload\n",
              " * process.\n",
              " * @param {string} inputId Element ID of the input file picker element.\n",
              " * @param {string} outputId Element ID of the output display.\n",
              " * @return {!Iterable<!Object>} Iterable of next steps.\n",
              " */\n",
              "function* uploadFilesStep(inputId, outputId) {\n",
              "  const inputElement = document.getElementById(inputId);\n",
              "  inputElement.disabled = false;\n",
              "\n",
              "  const outputElement = document.getElementById(outputId);\n",
              "  outputElement.innerHTML = '';\n",
              "\n",
              "  const pickedPromise = new Promise((resolve) => {\n",
              "    inputElement.addEventListener('change', (e) => {\n",
              "      resolve(e.target.files);\n",
              "    });\n",
              "  });\n",
              "\n",
              "  const cancel = document.createElement('button');\n",
              "  inputElement.parentElement.appendChild(cancel);\n",
              "  cancel.textContent = 'Cancel upload';\n",
              "  const cancelPromise = new Promise((resolve) => {\n",
              "    cancel.onclick = () => {\n",
              "      resolve(null);\n",
              "    };\n",
              "  });\n",
              "\n",
              "  // Wait for the user to pick the files.\n",
              "  const files = yield {\n",
              "    promise: Promise.race([pickedPromise, cancelPromise]),\n",
              "    response: {\n",
              "      action: 'starting',\n",
              "    }\n",
              "  };\n",
              "\n",
              "  cancel.remove();\n",
              "\n",
              "  // Disable the input element since further picks are not allowed.\n",
              "  inputElement.disabled = true;\n",
              "\n",
              "  if (!files) {\n",
              "    return {\n",
              "      response: {\n",
              "        action: 'complete',\n",
              "      }\n",
              "    };\n",
              "  }\n",
              "\n",
              "  for (const file of files) {\n",
              "    const li = document.createElement('li');\n",
              "    li.append(span(file.name, {fontWeight: 'bold'}));\n",
              "    li.append(span(\n",
              "        `(${file.type || 'n/a'}) - ${file.size} bytes, ` +\n",
              "        `last modified: ${\n",
              "            file.lastModifiedDate ? file.lastModifiedDate.toLocaleDateString() :\n",
              "                                    'n/a'} - `));\n",
              "    const percent = span('0% done');\n",
              "    li.appendChild(percent);\n",
              "\n",
              "    outputElement.appendChild(li);\n",
              "\n",
              "    const fileDataPromise = new Promise((resolve) => {\n",
              "      const reader = new FileReader();\n",
              "      reader.onload = (e) => {\n",
              "        resolve(e.target.result);\n",
              "      };\n",
              "      reader.readAsArrayBuffer(file);\n",
              "    });\n",
              "    // Wait for the data to be ready.\n",
              "    let fileData = yield {\n",
              "      promise: fileDataPromise,\n",
              "      response: {\n",
              "        action: 'continue',\n",
              "      }\n",
              "    };\n",
              "\n",
              "    // Use a chunked sending to avoid message size limits. See b/62115660.\n",
              "    let position = 0;\n",
              "    do {\n",
              "      const length = Math.min(fileData.byteLength - position, MAX_PAYLOAD_SIZE);\n",
              "      const chunk = new Uint8Array(fileData, position, length);\n",
              "      position += length;\n",
              "\n",
              "      const base64 = btoa(String.fromCharCode.apply(null, chunk));\n",
              "      yield {\n",
              "        response: {\n",
              "          action: 'append',\n",
              "          file: file.name,\n",
              "          data: base64,\n",
              "        },\n",
              "      };\n",
              "\n",
              "      let percentDone = fileData.byteLength === 0 ?\n",
              "          100 :\n",
              "          Math.round((position / fileData.byteLength) * 100);\n",
              "      percent.textContent = `${percentDone}% done`;\n",
              "\n",
              "    } while (position < fileData.byteLength);\n",
              "  }\n",
              "\n",
              "  // All done.\n",
              "  yield {\n",
              "    response: {\n",
              "      action: 'complete',\n",
              "    }\n",
              "  };\n",
              "}\n",
              "\n",
              "scope.google = scope.google || {};\n",
              "scope.google.colab = scope.google.colab || {};\n",
              "scope.google.colab._files = {\n",
              "  _uploadFiles,\n",
              "  _uploadFilesContinue,\n",
              "};\n",
              "})(self);\n",
              "</script> "
            ]
          },
          "metadata": {}
        },
        {
          "output_type": "stream",
          "name": "stdout",
          "text": [
            "Saving cruise_dataset.csv to cruise_dataset.csv\n"
          ]
        }
      ]
    },
    {
      "cell_type": "code",
      "source": [
        "try:\n",
        "    df = spark.read.csv('cruise_dataset.csv', header=True, inferSchema=True)\n",
        "    print(\"Dataset 'cruise_dataset.csv' loaded successfully into PySpark DataFrame 'df'.\")\n",
        "except Exception as e:\n",
        "    print(f\"Error loading dataset: {e}\")\n",
        "    print(\"Please ensure 'cruise_dataset.csv' is in the correct path or was uploaded correctly.\")"
      ],
      "metadata": {
        "colab": {
          "base_uri": "https://localhost:8080/"
        },
        "id": "AFO-5dnKEa4r",
        "outputId": "e0174d77-de9a-440f-ed09-70baef201b3e"
      },
      "execution_count": null,
      "outputs": [
        {
          "output_type": "stream",
          "name": "stdout",
          "text": [
            "Dataset 'cruise_dataset.csv' loaded successfully into PySpark DataFrame 'df'.\n"
          ]
        }
      ]
    },
    {
      "cell_type": "markdown",
      "source": [
        "# 5. Перевірка даних"
      ],
      "metadata": {
        "id": "VHFrPxoMEkDV"
      }
    },
    {
      "cell_type": "code",
      "source": [
        "df.printSchema()"
      ],
      "metadata": {
        "colab": {
          "base_uri": "https://localhost:8080/"
        },
        "id": "ynj57izGEij9",
        "outputId": "dbc59fd8-0d43-4c11-e09c-68373bd0b156"
      },
      "execution_count": null,
      "outputs": [
        {
          "output_type": "stream",
          "name": "stdout",
          "text": [
            "root\n",
            " |-- Ship_name: string (nullable = true)\n",
            " |-- Cruise_line: string (nullable = true)\n",
            " |-- Age: integer (nullable = true)\n",
            " |-- Tonnage: double (nullable = true)\n",
            " |-- passengers: double (nullable = true)\n",
            " |-- length: double (nullable = true)\n",
            " |-- cabins: double (nullable = true)\n",
            " |-- passenger_density: double (nullable = true)\n",
            " |-- crew: double (nullable = true)\n",
            "\n"
          ]
        }
      ]
    },
    {
      "cell_type": "code",
      "source": [
        "df.show(5)"
      ],
      "metadata": {
        "colab": {
          "base_uri": "https://localhost:8080/"
        },
        "id": "E2_QTRezEnLJ",
        "outputId": "58df94ba-09b0-4eb8-a571-1d668618b547"
      },
      "execution_count": null,
      "outputs": [
        {
          "output_type": "stream",
          "name": "stdout",
          "text": [
            "+-----------+-----------+---+------------------+----------+------+------+-----------------+----+\n",
            "|  Ship_name|Cruise_line|Age|           Tonnage|passengers|length|cabins|passenger_density|crew|\n",
            "+-----------+-----------+---+------------------+----------+------+------+-----------------+----+\n",
            "|    Journey|    Azamara|  6|30.276999999999997|      6.94|  5.94|  3.55|            42.64|3.55|\n",
            "|      Quest|    Azamara|  6|30.276999999999997|      6.94|  5.94|  3.55|            42.64|3.55|\n",
            "|Celebration|   Carnival| 26|            47.262|     14.86|  7.22|  7.43|             31.8| 6.7|\n",
            "|   Conquest|   Carnival| 11|             110.0|     29.74|  9.53| 14.88|            36.99|19.1|\n",
            "|    Destiny|   Carnival| 17|           101.353|     26.42|  8.92| 13.21|            38.36|10.0|\n",
            "+-----------+-----------+---+------------------+----------+------+------+-----------------+----+\n",
            "only showing top 5 rows\n",
            "\n"
          ]
        }
      ]
    },
    {
      "cell_type": "code",
      "source": [
        "df.count()"
      ],
      "metadata": {
        "colab": {
          "base_uri": "https://localhost:8080/"
        },
        "id": "37J_pmk0ErDU",
        "outputId": "8ed3deef-a205-48c4-b74c-02e3555258d9"
      },
      "execution_count": null,
      "outputs": [
        {
          "output_type": "execute_result",
          "data": {
            "text/plain": [
              "158"
            ]
          },
          "metadata": {},
          "execution_count": 15
        }
      ]
    },
    {
      "cell_type": "code",
      "source": [
        "len(df.columns)"
      ],
      "metadata": {
        "colab": {
          "base_uri": "https://localhost:8080/"
        },
        "id": "HLB0nNfdEuh6",
        "outputId": "6bcfe29c-dff8-466a-dcef-ddf735c2e6ce"
      },
      "execution_count": null,
      "outputs": [
        {
          "output_type": "execute_result",
          "data": {
            "text/plain": [
              "9"
            ]
          },
          "metadata": {},
          "execution_count": 16
        }
      ]
    },
    {
      "cell_type": "code",
      "source": [
        "df.describe().show()"
      ],
      "metadata": {
        "colab": {
          "base_uri": "https://localhost:8080/"
        },
        "id": "pZbUl-UmE43R",
        "outputId": "90d41992-1871-4c76-8f62-10d27860c8a8"
      },
      "execution_count": null,
      "outputs": [
        {
          "output_type": "stream",
          "name": "stdout",
          "text": [
            "+-------+---------+-----------+------------------+------------------+-----------------+-----------------+------------------+-----------------+-----------------+\n",
            "|summary|Ship_name|Cruise_line|               Age|           Tonnage|       passengers|           length|            cabins|passenger_density|             crew|\n",
            "+-------+---------+-----------+------------------+------------------+-----------------+-----------------+------------------+-----------------+-----------------+\n",
            "|  count|      158|        158|               158|               158|              158|              158|               158|              158|              158|\n",
            "|   mean| Infinity|       NULL|15.689873417721518| 71.28467088607599|18.45740506329114|8.130632911392404| 8.830000000000005|39.90094936708861|7.794177215189873|\n",
            "| stddev|     NULL|       NULL| 7.615691058751413|37.229540025907866|9.677094775143416|1.793473548054825|4.4714172221480615| 8.63921711391542|3.503486564627034|\n",
            "|    min|Adventure|    Azamara|                 4|             2.329|             0.66|             2.79|              0.33|             17.7|             0.59|\n",
            "|    max|Zuiderdam|   Windstar|                48|             220.0|             54.0|            11.82|              27.0|            71.43|             21.0|\n",
            "+-------+---------+-----------+------------------+------------------+-----------------+-----------------+------------------+-----------------+-----------------+\n",
            "\n"
          ]
        }
      ]
    },
    {
      "cell_type": "code",
      "source": [
        "print(\"\\nChecking for null values (count of nulls per column):\")\n",
        "for column in df.columns:\n",
        "    null_count = df.filter(col(column).isNull()).count()\n",
        "    if null_count > 0:\n",
        "        print(f\"Column '{column}': {null_count} null values\")"
      ],
      "metadata": {
        "colab": {
          "base_uri": "https://localhost:8080/"
        },
        "id": "rOp6irSCE7mZ",
        "outputId": "7fc2a615-fead-4231-d77e-6b376f75e36c"
      },
      "execution_count": null,
      "outputs": [
        {
          "output_type": "stream",
          "name": "stdout",
          "text": [
            "\n",
            "Checking for null values (count of nulls per column):\n"
          ]
        }
      ]
    },
    {
      "cell_type": "markdown",
      "source": [
        "# 6. Вибір та перейменування стовпців"
      ],
      "metadata": {
        "id": "2SDyoV0SFFqS"
      }
    },
    {
      "cell_type": "code",
      "source": [
        "df_selected = df.select(\n",
        "    col(\"Ship_name\").alias(\"ShipName\"),\n",
        "    col(\"Cruise_line\").alias(\"CruiseLine\"),\n",
        "    col(\"Age\").alias(\"ShipAge\"),\n",
        "    col(\"Tonnage\").alias(\"GrossTonnage\"),\n",
        "    col(\"passengers\").alias(\"Passengers\"),\n",
        "    col(\"crew\").alias(\"Crew\"),\n",
        "    col(\"cabins\").alias(\"Cabins\"),\n",
        "    col(\"passenger_density\").alias(\"PassengerDensity\")\n",
        ")\n",
        "print(\"\\nDataFrame after selecting and renaming columns:\")\n",
        "df_selected.show(5)"
      ],
      "metadata": {
        "colab": {
          "base_uri": "https://localhost:8080/"
        },
        "id": "rtE9QCUzFCMN",
        "outputId": "55481d3b-e100-4329-9588-14e15b6315ac"
      },
      "execution_count": null,
      "outputs": [
        {
          "output_type": "stream",
          "name": "stdout",
          "text": [
            "\n",
            "DataFrame after selecting and renaming columns:\n",
            "+-----------+----------+-------+------------------+----------+----+------+----------------+\n",
            "|   ShipName|CruiseLine|ShipAge|      GrossTonnage|Passengers|Crew|Cabins|PassengerDensity|\n",
            "+-----------+----------+-------+------------------+----------+----+------+----------------+\n",
            "|    Journey|   Azamara|      6|30.276999999999997|      6.94|3.55|  3.55|           42.64|\n",
            "|      Quest|   Azamara|      6|30.276999999999997|      6.94|3.55|  3.55|           42.64|\n",
            "|Celebration|  Carnival|     26|            47.262|     14.86| 6.7|  7.43|            31.8|\n",
            "|   Conquest|  Carnival|     11|             110.0|     29.74|19.1| 14.88|           36.99|\n",
            "|    Destiny|  Carnival|     17|           101.353|     26.42|10.0| 13.21|           38.36|\n",
            "+-----------+----------+-------+------------------+----------+----+------+----------------+\n",
            "only showing top 5 rows\n",
            "\n"
          ]
        }
      ]
    },
    {
      "cell_type": "markdown",
      "source": [
        "# 7. Фільтрація даних"
      ],
      "metadata": {
        "id": "3OjOVR9wFKI6"
      }
    },
    {
      "cell_type": "code",
      "source": [
        "df_old_ships = df_selected.filter(col(\"ShipAge\") > 20)\n",
        "print(\"\\nShips older than 20 years:\")\n",
        "df_old_ships.show(5)"
      ],
      "metadata": {
        "colab": {
          "base_uri": "https://localhost:8080/"
        },
        "id": "aCuFjt2PFNfm",
        "outputId": "60231a98-1960-4a78-d4df-b70c13608d13"
      },
      "execution_count": null,
      "outputs": [
        {
          "output_type": "stream",
          "name": "stdout",
          "text": [
            "\n",
            "Ships older than 20 years:\n",
            "+-----------+----------+-------+------------+----------+----+------+----------------+\n",
            "|   ShipName|CruiseLine|ShipAge|GrossTonnage|Passengers|Crew|Cabins|PassengerDensity|\n",
            "+-----------+----------+-------+------------+----------+----+------+----------------+\n",
            "|Celebration|  Carnival|     26|      47.262|     14.86| 6.7|  7.43|            31.8|\n",
            "|    Ecstasy|  Carnival|     22|      70.367|     20.52| 9.2|  10.2|           34.29|\n",
            "|    Fantasy|  Carnival|     23|      70.367|     20.56| 9.2| 10.22|           34.23|\n",
            "|    Holiday|  Carnival|     28|      46.052|     14.52| 6.6|  7.26|           31.72|\n",
            "|     Zenith| Celebrity|     21|      47.225|     13.66| 6.7|  6.87|           34.57|\n",
            "+-----------+----------+-------+------------+----------+----+------+----------------+\n",
            "only showing top 5 rows\n",
            "\n"
          ]
        }
      ]
    },
    {
      "cell_type": "markdown",
      "source": [
        "# 8. Додавання нового стовпця (похідного)"
      ],
      "metadata": {
        "id": "0lXSekxdFOVv"
      }
    },
    {
      "cell_type": "code",
      "source": [
        "df_with_ratio = df_selected.withColumn(\n",
        "    \"Crew_per_Passenger\",\n",
        "    round(col(\"Crew\") / col(\"Passengers\"), 3) # округлюємо до 3 знаків після коми\n",
        ")\n",
        "print(\"\\nDataFrame with 'Crew_per_Passenger' column:\")\n",
        "df_with_ratio.show(5)"
      ],
      "metadata": {
        "colab": {
          "base_uri": "https://localhost:8080/"
        },
        "id": "a_dmgvwGFTCA",
        "outputId": "a613ae45-aa3a-4296-a7f9-771a4c764ecf"
      },
      "execution_count": null,
      "outputs": [
        {
          "output_type": "stream",
          "name": "stdout",
          "text": [
            "\n",
            "DataFrame with 'Crew_per_Passenger' column:\n",
            "+-----------+----------+-------+------------------+----------+----+------+----------------+------------------+\n",
            "|   ShipName|CruiseLine|ShipAge|      GrossTonnage|Passengers|Crew|Cabins|PassengerDensity|Crew_per_Passenger|\n",
            "+-----------+----------+-------+------------------+----------+----+------+----------------+------------------+\n",
            "|    Journey|   Azamara|      6|30.276999999999997|      6.94|3.55|  3.55|           42.64|             0.512|\n",
            "|      Quest|   Azamara|      6|30.276999999999997|      6.94|3.55|  3.55|           42.64|             0.512|\n",
            "|Celebration|  Carnival|     26|            47.262|     14.86| 6.7|  7.43|            31.8|             0.451|\n",
            "|   Conquest|  Carnival|     11|             110.0|     29.74|19.1| 14.88|           36.99|             0.642|\n",
            "|    Destiny|  Carnival|     17|           101.353|     26.42|10.0| 13.21|           38.36|             0.379|\n",
            "+-----------+----------+-------+------------------+----------+----+------+----------------+------------------+\n",
            "only showing top 5 rows\n",
            "\n"
          ]
        }
      ]
    },
    {
      "cell_type": "markdown",
      "source": [
        "# 9. Агрегація даних (groupBy)"
      ],
      "metadata": {
        "id": "Ih6hVm1kFVa_"
      }
    },
    {
      "cell_type": "code",
      "source": [
        "df_agg_by_line = df_selected.groupBy(\"CruiseLine\").agg(\n",
        "    count(\"ShipName\").alias(\"NumberOfShips\"),\n",
        "    round(avg(\"GrossTonnage\"), 2).alias(\"AvgTonnage\"),\n",
        "    round(avg(\"Passengers\"), 2).alias(\"AvgPassengers\"),\n",
        "    round(avg(\"Crew\"), 2).alias(\"AvgCrew\"),\n",
        "    round(avg(\"Cabins\"), 2).alias(\"AvgCabins\")\n",
        ").orderBy(col(\"NumberOfShips\").desc())\n",
        "\n",
        "print(\"\\nAggregated data by Cruise Line:\")\n",
        "df_agg_by_line.show(5, truncate=False)"
      ],
      "metadata": {
        "colab": {
          "base_uri": "https://localhost:8080/"
        },
        "id": "X3asMJ59FXgA",
        "outputId": "30a5209f-4e0b-4ace-a2d5-7f5c1a14066b"
      },
      "execution_count": null,
      "outputs": [
        {
          "output_type": "stream",
          "name": "stdout",
          "text": [
            "\n",
            "Aggregated data by Cruise Line:\n",
            "+----------------+-------------+----------+-------------+-------+---------+\n",
            "|CruiseLine      |NumberOfShips|AvgTonnage|AvgPassengers|AvgCrew|AvgCabins|\n",
            "+----------------+-------------+----------+-------------+-------+---------+\n",
            "|Royal_Caribbean |23           |107.01    |28.85        |10.02  |13.13    |\n",
            "|Carnival        |22           |84.65     |23.46        |10.14  |11.56    |\n",
            "|Princess        |17           |87.54     |21.62        |9.32   |10.62    |\n",
            "|Holland_American|14           |60.5      |14.21        |6.22   |7.1      |\n",
            "|Norwegian       |13           |63.72     |17.88        |8.09   |8.81     |\n",
            "+----------------+-------------+----------+-------------+-------+---------+\n",
            "only showing top 5 rows\n",
            "\n"
          ]
        }
      ]
    },
    {
      "cell_type": "markdown",
      "source": [
        "# 10. Сортування даних"
      ],
      "metadata": {
        "id": "UfnH6VBXFZVn"
      }
    },
    {
      "cell_type": "code",
      "source": [
        "df_sorted_by_age = df_selected.orderBy(col(\"ShipAge\").desc())\n",
        "print(\"\\nShips sorted by age (descending):\")\n",
        "df_sorted_by_age.show(5)"
      ],
      "metadata": {
        "colab": {
          "base_uri": "https://localhost:8080/"
        },
        "id": "OYEGjZusFaff",
        "outputId": "775f8e77-a772-4c8e-c8b5-1b29cf3267ec"
      },
      "execution_count": null,
      "outputs": [
        {
          "output_type": "stream",
          "name": "stdout",
          "text": [
            "\n",
            "Ships sorted by age (descending):\n",
            "+----------------+----------+-------+------------+----------+----+------+----------------+\n",
            "|        ShipName|CruiseLine|ShipAge|GrossTonnage|Passengers|Crew|Cabins|PassengerDensity|\n",
            "+----------------+----------+-------+------------+----------+----+------+----------------+\n",
            "|       MarcoPolo|    Orient|     48|       22.08|      8.26| 3.5|  4.25|           26.73|\n",
            "|QueenElizabethII|    Cunard|     44|      70.327|     17.91|9.21|   9.5|           39.27|\n",
            "|            Star| Norwegian|     40|        28.0|      11.5| 3.8|   4.0|           24.35|\n",
            "|        Rhapsody|       MSC|     36|      16.852|      9.52|2.97|  3.83|            17.7|\n",
            "|          Melody|       MSC|     31|      35.143|      12.5|5.35|  5.32|           28.11|\n",
            "+----------------+----------+-------+------------+----------+----+------+----------------+\n",
            "only showing top 5 rows\n",
            "\n"
          ]
        }
      ]
    },
    {
      "cell_type": "markdown",
      "source": [
        "# Графік 1: Розподіл віку кораблів (гістограма)"
      ],
      "metadata": {
        "id": "kFx7_hNCFfm0"
      }
    },
    {
      "cell_type": "code",
      "source": [
        "age_data_pd = df_selected.select(\"ShipAge\").toPandas()\n",
        "\n",
        "plt.figure(figsize=(10, 6))\n",
        "sns.histplot(age_data_pd['ShipAge'], bins=10, kde=True, color='skyblue')\n",
        "plt.title('Розподіл віку круїзних кораблів')\n",
        "plt.xlabel('Вік корабля (роки)')\n",
        "plt.ylabel('Кількість кораблів')\n",
        "plt.grid(axis='y', alpha=0.75)\n",
        "plt.show()"
      ],
      "metadata": {
        "colab": {
          "base_uri": "https://localhost:8080/",
          "height": 564
        },
        "id": "SS88C1-QFfN-",
        "outputId": "5560c3c5-a56b-45a1-9932-4bc7cfc47d8e"
      },
      "execution_count": null,
      "outputs": [
        {
          "output_type": "display_data",
          "data": {
            "text/plain": [
              "<Figure size 1000x600 with 1 Axes>"
            ],
            "image/png": "[encoded data removed]"
          },
          "metadata": {}
        }
      ]
    },
    {
      "cell_type": "markdown",
      "source": [
        "# Графік 2: Середня кількість екіпажу за круїзною лінією"
      ],
      "metadata": {
        "id": "HUPAMAplFkFI"
      }
    },
    {
      "cell_type": "code",
      "source": [
        "agg_data_for_plot_pd = df_agg_by_line.orderBy(col(\"AvgCrew\").desc()).limit(10).toPandas()\n",
        "\n",
        "plt.figure(figsize=(12, 7))\n",
        "sns.barplot(x='CruiseLine', y='AvgCrew', data=agg_data_for_plot_pd, palette='viridis')\n",
        "plt.title('Середня кількість екіпажу за круїзною лінією (Топ-10)')\n",
        "plt.xlabel('Круїзна лінія')\n",
        "plt.ylabel('Середня кількість екіпажу')\n",
        "plt.xticks(rotation=45, ha='right')\n",
        "plt.tight_layout()\n",
        "plt.show()"
      ],
      "metadata": {
        "colab": {
          "base_uri": "https://localhost:8080/",
          "height": 798
        },
        "id": "PguQOaM2Fl_U",
        "outputId": "4ffa0e6d-6a99-4fc6-f2a3-41e7c81c9cf5"
      },
      "execution_count": null,
      "outputs": [
        {
          "output_type": "stream",
          "name": "stderr",
          "text": [
            "<ipython-input-26-09d5bcca81f9>:4: FutureWarning: \n",
            "\n",
            "Passing `palette` without assigning `hue` is deprecated and will be removed in v0.14.0. Assign the `x` variable to `hue` and set `legend=False` for the same effect.\n",
            "\n",
            "  sns.barplot(x='CruiseLine', y='AvgCrew', data=agg_data_for_plot_pd, palette='viridis')\n"
          ]
        },
        {
          "output_type": "display_data",
          "data": {
            "text/plain": [
              "<Figure size 1200x700 with 1 Axes>"
            ],
            "image/png": "[encoded data removed]"
          },
          "metadata": {}
        }
      ]
    },
    {
      "cell_type": "markdown",
      "source": [
        "# Графік 3: Взаємозв'язок між тоннажем корабля та кількістю пасажирів (точковий графік)"
      ],
      "metadata": {
        "id": "maJo0jAAFqSz"
      }
    },
    {
      "cell_type": "code",
      "source": [
        "scatter_data_pd = df_selected.select(\"GrossTonnage\", \"Passengers\").toPandas()\n",
        "\n",
        "plt.figure(figsize=(10, 7))\n",
        "sns.scatterplot(x='GrossTonnage', y='Passengers', data=scatter_data_pd, alpha=0.7, color='purple')\n",
        "plt.title('Взаємозв\\'язок між тоннажем та кількістю пасажирів')\n",
        "plt.xlabel('Валовий тоннаж')\n",
        "plt.ylabel('Кількість пасажирів')\n",
        "plt.grid(True, linestyle='--', alpha=0.6)\n",
        "plt.show()"
      ],
      "metadata": {
        "colab": {
          "base_uri": "https://localhost:8080/",
          "height": 641
        },
        "id": "rJL0XWO_Fs6v",
        "outputId": "153af815-538f-4dad-8c20-b197a526c1dc"
      },
      "execution_count": null,
      "outputs": [
        {
          "output_type": "display_data",
          "data": {
            "text/plain": [
              "<Figure size 1000x700 with 1 Axes>"
            ],
            "image/png": "[encoded data removed]"
          },
          "metadata": {}
        }
      ]
    },
    {
      "cell_type": "code",
      "source": [
        "spark.stop()\n",
        "print(\"\\nSparkSession stopped.\")"
      ],
      "metadata": {
        "colab": {
          "base_uri": "https://localhost:8080/"
        },
        "id": "Fw-fe_L3FwI6",
        "outputId": "7b90fa3a-69b2-45c3-966a-3943afea485f"
      },
      "execution_count": null,
      "outputs": [
        {
          "output_type": "stream",
          "name": "stdout",
          "text": [
            "\n",
            "SparkSession stopped.\n"
          ]
        }
      ]
    },
    {
      "cell_type": "markdown",
      "source": [
        "#  Висновок :\n",
        "Робота розпочалася з успішного налаштування PySpark та завантаження датасету Cruise. Виконано ключові операції PySpark, включаючи вибір, перейменування та фільтрацію стовпців. Додано новий стовпець \"Crew_per_Passenger\" для розширеного аналізу. Дані були ефективно агреговані, наприклад, розраховано середній тоннаж та екіпаж за круїзною лінією. Побудована гістограма показала розподіл віку кораблів. Стовпчикова діаграма порівняла середню кількість екіпажу між круїзними лініями. Точковий графік наочно продемонстрував прямий взаємозв'язок між тоннажем та кількістю пасажирів."
      ],
      "metadata": {
        "id": "j8IAgsm_GDqk"
      }
    }
  ]
}